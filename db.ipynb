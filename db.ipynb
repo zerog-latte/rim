{
 "cells": [
  {
   "cell_type": "code",
   "execution_count": 1,
   "metadata": {},
   "outputs": [],
   "source": [
    "import os\n",
    "import yaml\n",
    "from pymongo import MongoClient\n",
    "from dotenv import load_dotenv"
   ]
  },
  {
   "cell_type": "code",
   "execution_count": 2,
   "metadata": {},
   "outputs": [],
   "source": [
    "def flatten(l):\n",
    "  return [item for sublist in l for item in sublist]"
   ]
  },
  {
   "cell_type": "code",
   "execution_count": 3,
   "metadata": {},
   "outputs": [],
   "source": [
    "load_dotenv()\n",
    "# This gets all env variables starting with RIM_\n",
    "cf = {}\n",
    "for e in os.environ:\n",
    "  if e.startswith('RIM_'):\n",
    "    e_name = e.replace('RIM_', '').lower()\n",
    "    cf[e_name] = os.getenv(e)\n",
    "# This tries to convert port numbers to int\n",
    "cf = {k: (int(v) if v.isnumeric() else v) for k, v in cf.items()}"
   ]
  },
  {
   "cell_type": "code",
   "execution_count": 4,
   "metadata": {},
   "outputs": [],
   "source": [
    "mc = MongoClient(\n",
    "  host=cf['mongo_host'],\n",
    "  port=cf['mongo_port'],\n",
    "  username=cf['mongo_user'],\n",
    "  password=cf['mongo_pass'],\n",
    ")\n",
    "mc._timeout = 1\n",
    "db = mc['items']"
   ]
  },
  {
   "cell_type": "code",
   "execution_count": 5,
   "metadata": {},
   "outputs": [
    {
     "data": {
      "text/plain": [
       "[{'_id': 'foodstuff',\n",
       "  'desc': 'All you can eat or drink',\n",
       "  'subcats': ['greens', 'meat', 'meals', 'beverage', 'liquors']},\n",
       " {'_id': 'greens', 'desc': 'Grows in a garden'},\n",
       " {'_id': 'meat', 'desc': 'Says Moooo'},\n",
       " {'_id': 'meals', 'desc': 'Is full of ingredients'},\n",
       " {'_id': 'beverage', 'desc': 'Is liquid'},\n",
       " {'_id': 'liquors', 'desc': 'Makes you dizzy'},\n",
       " {'_id': 'weapons',\n",
       "  'desc': 'Made for killing',\n",
       "  'subcats': ['melee', 'ranged', 'exotic']},\n",
       " {'_id': 'melee',\n",
       "  'desc': \"To look into someone's eyes\",\n",
       "  'subcats': ['pointed', 'blunt', 'edged']},\n",
       " {'_id': 'ranged', 'desc': 'For the introverts'},\n",
       " {'_id': 'exotic', 'desc': 'Is it a frying pan?'}]"
      ]
     },
     "execution_count": 5,
     "metadata": {},
     "output_type": "execute_result"
    }
   ],
   "source": [
    "with open('./data/item-categories.yaml', 'r') as f:\n",
    "  categories = flatten(list(yaml.safe_load_all(f)))\n",
    "categories"
   ]
  },
  {
   "cell_type": "code",
   "execution_count": 6,
   "metadata": {},
   "outputs": [
    {
     "data": {
      "text/plain": [
       "InsertManyResult(['foodstuff', 'greens', 'meat', 'meals', 'beverage', 'liquors', 'weapons', 'melee', 'ranged', 'exotic'], acknowledged=True)"
      ]
     },
     "execution_count": 6,
     "metadata": {},
     "output_type": "execute_result"
    }
   ],
   "source": [
    "db.drop_collection('categories')\n",
    "db['categories'].insert_many(categories)"
   ]
  },
  {
   "cell_type": "code",
   "execution_count": 7,
   "metadata": {},
   "outputs": [
    {
     "data": {
      "text/plain": [
       "[{'_id': 'Cucumber',\n",
       "  'cat': 'greens',\n",
       "  'desc': 'Makes cats scared',\n",
       "  'opts': ['weight', 'quality', 'shape']},\n",
       " {'_id': 'Tomato',\n",
       "  'cat': 'greens',\n",
       "  'desc': 'Is not green',\n",
       "  'opts': ['weight', 'quality', 'color']},\n",
       " {'_id': 'Beef',\n",
       "  'cat': 'meat',\n",
       "  'desc': 'Once it said Mooo last time',\n",
       "  'opts': ['weight', 'quality', 'part']}]"
      ]
     },
     "execution_count": 7,
     "metadata": {},
     "output_type": "execute_result"
    }
   ],
   "source": [
    "with open('./data/items.yaml', 'r') as f:\n",
    "  items = flatten(list(yaml.safe_load_all(f)))\n",
    "items"
   ]
  },
  {
   "cell_type": "code",
   "execution_count": 8,
   "metadata": {},
   "outputs": [
    {
     "data": {
      "text/plain": [
       "{'greens': [{'_id': 'Cucumber',\n",
       "   'desc': 'Makes cats scared',\n",
       "   'opts': ['weight', 'quality', 'shape']},\n",
       "  {'_id': 'Tomato',\n",
       "   'desc': 'Is not green',\n",
       "   'opts': ['weight', 'quality', 'color']}],\n",
       " 'meat': [{'_id': 'Beef',\n",
       "   'desc': 'Once it said Mooo last time',\n",
       "   'opts': ['weight', 'quality', 'part']}]}"
      ]
     },
     "execution_count": 8,
     "metadata": {},
     "output_type": "execute_result"
    }
   ],
   "source": [
    "items_sorted = {}\n",
    "for v in items:\n",
    "  vc = v.copy()\n",
    "  del vc['cat']\n",
    "  try:\n",
    "    items_sorted[v['cat']].append(vc)\n",
    "  except:\n",
    "    items_sorted[v['cat']] = [vc]\n",
    "items_sorted"
   ]
  },
  {
   "cell_type": "code",
   "execution_count": 9,
   "metadata": {},
   "outputs": [],
   "source": [
    "for k, v in items_sorted.items():\n",
    "  db.drop_collection(k)\n",
    "  db[k].insert_many(v)"
   ]
  },
  {
   "cell_type": "code",
   "execution_count": null,
   "metadata": {},
   "outputs": [],
   "source": []
  }
 ],
 "metadata": {
  "kernelspec": {
   "display_name": ".venv",
   "language": "python",
   "name": "python3"
  },
  "language_info": {
   "codemirror_mode": {
    "name": "ipython",
    "version": 3
   },
   "file_extension": ".py",
   "mimetype": "text/x-python",
   "name": "python",
   "nbconvert_exporter": "python",
   "pygments_lexer": "ipython3",
   "version": "3.12.0"
  }
 },
 "nbformat": 4,
 "nbformat_minor": 2
}
